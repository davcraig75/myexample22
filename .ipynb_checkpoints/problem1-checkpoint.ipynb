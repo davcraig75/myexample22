{
 "cells": [
  {
   "cell_type": "markdown",
   "id": "0d60995f-737f-4207-9ec9-8c3033fda864",
   "metadata": {},
   "source": [
    "# Exmample of declaring a variable"
   ]
  },
  {
   "cell_type": "code",
   "execution_count": 1,
   "id": "e7c61383-a383-4913-ac34-344b9740ede5",
   "metadata": {},
   "outputs": [],
   "source": [
    "a=5"
   ]
  },
  {
   "cell_type": "code",
   "execution_count": 2,
   "id": "7012fdd0-0407-463d-b8dd-2c822431ed7f",
   "metadata": {},
   "outputs": [
    {
     "name": "stdout",
     "output_type": "stream",
     "text": [
      "5\n"
     ]
    }
   ],
   "source": [
    "# Example of printing a variable\n",
    "print(a)"
   ]
  },
  {
   "cell_type": "code",
   "execution_count": null,
   "id": "f6fe4163-3259-4002-a269-805a083198c3",
   "metadata": {},
   "outputs": [],
   "source": []
  }
 ],
 "metadata": {
  "kernelspec": {
   "display_name": "Python 3 (ipykernel)",
   "language": "python",
   "name": "python3"
  },
  "language_info": {
   "codemirror_mode": {
    "name": "ipython",
    "version": 3
   },
   "file_extension": ".py",
   "mimetype": "text/x-python",
   "name": "python",
   "nbconvert_exporter": "python",
   "pygments_lexer": "ipython3",
   "version": "3.8.9"
  }
 },
 "nbformat": 4,
 "nbformat_minor": 5
}
